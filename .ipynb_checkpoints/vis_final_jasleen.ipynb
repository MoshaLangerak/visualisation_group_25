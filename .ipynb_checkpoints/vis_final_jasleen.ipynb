{
 "cells": [
  {
   "cell_type": "code",
   "execution_count": 3,
   "metadata": {},
   "outputs": [
    {
     "name": "stderr",
     "output_type": "stream",
     "text": [
      "<ipython-input-3-f221ec313ff4>:6: UserWarning: \n",
      "The dash_html_components package is deprecated. Please replace\n",
      "`import dash_html_components as html` with `from dash import html`\n",
      "  import dash_html_components as html\n",
      "<ipython-input-3-f221ec313ff4>:7: UserWarning: \n",
      "The dash_core_components package is deprecated. Please replace\n",
      "`import dash_core_components as dcc` with `from dash import dcc`\n",
      "  import dash_core_components as dcc\n"
     ]
    }
   ],
   "source": [
    "import pandas as pd\n",
    "import plotly.graph_objs as go\n",
    "import dash\n",
    "from dash.exceptions import PreventUpdate\n",
    "from dash.dependencies import Input, Output, State\n",
    "import dash_html_components as html\n",
    "import dash_core_components as dcc\n",
    "from matplotlib import pyplot as plt"
   ]
  },
  {
   "cell_type": "code",
   "execution_count": 4,
   "metadata": {},
   "outputs": [
    {
     "name": "stderr",
     "output_type": "stream",
     "text": [
      "/opt/anaconda3/lib/python3.8/site-packages/IPython/core/interactiveshell.py:3418: DtypeWarning: Columns (2,52) have mixed types.Specify dtype option on import or set low_memory=False.\n",
      "  exec(code_obj, self.user_global_ns, self.user_ns)\n"
     ]
    }
   ],
   "source": [
    "df = pd.read_csv(\"all_years_2000_2020.csv\")"
   ]
  },
  {
   "cell_type": "code",
   "execution_count": 5,
   "metadata": {},
   "outputs": [],
   "source": [
    "df['date'] = pd.to_datetime(df['date'])"
   ]
  },
  {
   "cell_type": "code",
   "execution_count": 6,
   "metadata": {},
   "outputs": [],
   "source": [
    "relevant_factors = df[['weather_conditions', 'light_conditions',\n",
    "                   'skidding_and_overturning', 'road_surface_conditions',\n",
    "                    'special_conditions_at_site', 'number_of_vehicles', \n",
    "                       'number_of_casualties', 'date']]"
   ]
  },
  {
   "cell_type": "code",
   "execution_count": 91,
   "metadata": {},
   "outputs": [],
   "source": [
    "weather = relevant_factors[['weather_conditions','date', 'number_of_casualties']].groupby(['weather_conditions', df.date.dt.to_period(\"Y\")]).sum(['number_of_casualties']).reset_index()\n",
    "light = relevant_factors[['light_conditions','date', 'number_of_casualties']].groupby(['light_conditions', df.date.dt.to_period(\"Y\")]).sum('number_of_casualties').reset_index()\n",
    "skidding = relevant_factors[['skidding_and_overturning','date', 'number_of_casualties']].groupby(['skidding_and_overturning', df.date.dt.to_period(\"Y\")]).sum('number_of_casualties').reset_index()\n",
    "road = relevant_factors[['road_surface_conditions', 'date', 'number_of_casualties']].groupby(['road_surface_conditions', df.date.dt.to_period(\"Y\")]).sum('number_of_casualties').reset_index()\n",
    "site =  relevant_factors[['special_conditions_at_site', 'date', 'number_of_casualties']].groupby(['special_conditions_at_site', df.date.dt.to_period(\"Y\")]).sum('number_of_casualties').reset_index()\n",
    "\n",
    "\n"
   ]
  },
  {
   "cell_type": "code",
   "execution_count": 79,
   "metadata": {},
   "outputs": [
    {
     "data": {
      "text/html": [
       "<div>\n",
       "<style scoped>\n",
       "    .dataframe tbody tr th:only-of-type {\n",
       "        vertical-align: middle;\n",
       "    }\n",
       "\n",
       "    .dataframe tbody tr th {\n",
       "        vertical-align: top;\n",
       "    }\n",
       "\n",
       "    .dataframe thead th {\n",
       "        text-align: right;\n",
       "    }\n",
       "</style>\n",
       "<table border=\"1\" class=\"dataframe\">\n",
       "  <thead>\n",
       "    <tr style=\"text-align: right;\">\n",
       "      <th></th>\n",
       "      <th>light_conditions</th>\n",
       "      <th>date</th>\n",
       "      <th>number_of_casualties</th>\n",
       "    </tr>\n",
       "  </thead>\n",
       "  <tbody>\n",
       "    <tr>\n",
       "      <th>12</th>\n",
       "      <td>1</td>\n",
       "      <td>2007</td>\n",
       "      <td>718149</td>\n",
       "    </tr>\n",
       "    <tr>\n",
       "      <th>33</th>\n",
       "      <td>4</td>\n",
       "      <td>2007</td>\n",
       "      <td>188884</td>\n",
       "    </tr>\n",
       "    <tr>\n",
       "      <th>54</th>\n",
       "      <td>5</td>\n",
       "      <td>2007</td>\n",
       "      <td>3340</td>\n",
       "    </tr>\n",
       "    <tr>\n",
       "      <th>75</th>\n",
       "      <td>6</td>\n",
       "      <td>2007</td>\n",
       "      <td>75041</td>\n",
       "    </tr>\n",
       "    <tr>\n",
       "      <th>96</th>\n",
       "      <td>7</td>\n",
       "      <td>2007</td>\n",
       "      <td>7595</td>\n",
       "    </tr>\n",
       "  </tbody>\n",
       "</table>\n",
       "</div>"
      ],
      "text/plain": [
       "    light_conditions  date  number_of_casualties\n",
       "12                 1  2007                718149\n",
       "33                 4  2007                188884\n",
       "54                 5  2007                  3340\n",
       "75                 6  2007                 75041\n",
       "96                 7  2007                  7595"
      ]
     },
     "execution_count": 79,
     "metadata": {},
     "output_type": "execute_result"
    }
   ],
   "source": [
    "weather['date'].unique()\n",
    "light.loc[light.date == \"2007\"]"
   ]
  },
  {
   "cell_type": "code",
   "execution_count": 90,
   "metadata": {},
   "outputs": [],
   "source": [
    "def get_df(dataframe, year1, year2):\n",
    "    frame = dataframe.loc[(dataframe.date <= year2) & (dataframe.date >= year1)]\n",
    "    return frame\n",
    "\n",
    "# get_df(light, \"2000\", \"2005\")\n",
    "# weather.loc[df.date.dt.to_period(\"Y\") == '2000']"
   ]
  },
  {
   "cell_type": "code",
   "execution_count": 82,
   "metadata": {},
   "outputs": [
    {
     "data": {
      "text/html": [
       "<div>\n",
       "<style scoped>\n",
       "    .dataframe tbody tr th:only-of-type {\n",
       "        vertical-align: middle;\n",
       "    }\n",
       "\n",
       "    .dataframe tbody tr th {\n",
       "        vertical-align: top;\n",
       "    }\n",
       "\n",
       "    .dataframe thead th {\n",
       "        text-align: right;\n",
       "    }\n",
       "</style>\n",
       "<table border=\"1\" class=\"dataframe\">\n",
       "  <thead>\n",
       "    <tr style=\"text-align: right;\">\n",
       "      <th></th>\n",
       "      <th>light_conditions</th>\n",
       "      <th>date</th>\n",
       "      <th>number_of_casualties</th>\n",
       "    </tr>\n",
       "  </thead>\n",
       "  <tbody>\n",
       "    <tr>\n",
       "      <th>4</th>\n",
       "      <td>-1</td>\n",
       "      <td>2020</td>\n",
       "      <td>1</td>\n",
       "    </tr>\n",
       "    <tr>\n",
       "      <th>25</th>\n",
       "      <td>1</td>\n",
       "      <td>2020</td>\n",
       "      <td>213835</td>\n",
       "    </tr>\n",
       "    <tr>\n",
       "      <th>46</th>\n",
       "      <td>4</td>\n",
       "      <td>2020</td>\n",
       "      <td>64007</td>\n",
       "    </tr>\n",
       "    <tr>\n",
       "      <th>67</th>\n",
       "      <td>5</td>\n",
       "      <td>2020</td>\n",
       "      <td>1788</td>\n",
       "    </tr>\n",
       "    <tr>\n",
       "      <th>88</th>\n",
       "      <td>6</td>\n",
       "      <td>2020</td>\n",
       "      <td>18101</td>\n",
       "    </tr>\n",
       "    <tr>\n",
       "      <th>109</th>\n",
       "      <td>7</td>\n",
       "      <td>2020</td>\n",
       "      <td>5428</td>\n",
       "    </tr>\n",
       "  </tbody>\n",
       "</table>\n",
       "</div>"
      ],
      "text/plain": [
       "     light_conditions  date  number_of_casualties\n",
       "4                  -1  2020                     1\n",
       "25                  1  2020                213835\n",
       "46                  4  2020                 64007\n",
       "67                  5  2020                  1788\n",
       "88                  6  2020                 18101\n",
       "109                 7  2020                  5428"
      ]
     },
     "execution_count": 82,
     "metadata": {},
     "output_type": "execute_result"
    }
   ],
   "source": [
    "get_df(light, \"2020\")"
   ]
  },
  {
   "cell_type": "code",
   "execution_count": 92,
   "metadata": {},
   "outputs": [
    {
     "name": "stdout",
     "output_type": "stream",
     "text": [
      "Dash is running on http://127.0.0.1:8050/\n",
      "\n",
      "Dash is running on http://127.0.0.1:8050/\n",
      "\n",
      "Dash is running on http://127.0.0.1:8050/\n",
      "\n",
      "Dash is running on http://127.0.0.1:8050/\n",
      "\n",
      "Dash is running on http://127.0.0.1:8050/\n",
      "\n",
      "Dash is running on http://127.0.0.1:8050/\n",
      "\n",
      "Dash is running on http://127.0.0.1:8050/\n",
      "\n",
      "Dash is running on http://127.0.0.1:8050/\n",
      "\n",
      "Dash is running on http://127.0.0.1:8050/\n",
      "\n",
      "Dash is running on http://127.0.0.1:8050/\n",
      "\n",
      "Dash is running on http://127.0.0.1:8050/\n",
      "\n",
      " * Serving Flask app \"__main__\" (lazy loading)\n",
      " * Environment: production\n",
      "\u001b[31m   WARNING: This is a development server. Do not use it in a production deployment.\u001b[0m\n",
      "\u001b[2m   Use a production WSGI server instead.\u001b[0m\n",
      " * Debug mode: on\n"
     ]
    }
   ],
   "source": [
    "app = dash.Dash()\n",
    "\n",
    "fig_names = ['Light Conditions', 'Weather Conditions', 'Consequence of Skidding',\n",
    "            'Surface of Road', 'Special scene at sight']\n",
    "fig_dropdown = html.Div([\n",
    "    dcc.Dropdown(\n",
    "        id='fig_dropdown',\n",
    "        options=[{'label': x, 'value': x} for x in fig_names],\n",
    "        value=None\n",
    "    )])\n",
    "fig_plot = html.Div(id='fig_plot')\n",
    "app.layout = html.Div([fig_dropdown, fig_plot])\n",
    "\n",
    "@app.callback(\n",
    "dash.dependencies.Output('fig_plot', 'children'),\n",
    "[dash.dependencies.Input('fig_dropdown', 'value')])\n",
    "def update_output(fig_name):\n",
    "    return name_to_figure(fig_name)\n",
    "\n",
    "def name_to_figure(fig_name):\n",
    "    figure = go.Figure()\n",
    "    if fig_name == 'Light Conditions':\n",
    "#         figure.add_trace(go.Scatter(y=[4, 2, 1]))\n",
    "        figure.add_trace(go.Bar(x =get_df(light, \"2000\", \"2004\")['light_conditions'], y=get_df(light, \"2000\", \"2005\")['number_of_casualties'],\n",
    "                               name = \"Year 2000-2004\"))\n",
    "        figure.add_trace(go.Bar(x =get_df(light, \"2005\", \"2010\")['light_conditions'], y=get_df(light, \"2005\", \"2010\")['number_of_casualties'],\n",
    "                               name = \"Year 2005-2010\"))\n",
    "        figure.add_trace(go.Bar(x =get_df(light, \"2011\", \"2015\")['light_conditions'], y=get_df(light, \"2011\", \"2015\")['number_of_casualties'],\n",
    "                               name = \"Year 2011-2015\"))\n",
    "        figure.add_trace(go.Bar(x =get_df(light, \"2016\", \"2020\")['light_conditions'], y=get_df(light, \"2016\", \"2020\")['number_of_casualties'],\n",
    "                               name = \"Year 2016-2020\"))\n",
    "        \n",
    "    elif fig_name == 'Weather Conditions': \n",
    "        figure.add_trace(go.Bar(x =get_df(weather, \"2000\", \"2004\")['weather_conditions'], y=get_df(weather, \"2000\", \"2005\")['number_of_casualties'],\n",
    "                               name = \"Year 2000-2004\"))\n",
    "        figure.add_trace(go.Bar(x =get_df(weather, \"2005\", \"2010\")['weather_conditions'], y=get_df(weather, \"2005\", \"2010\")['number_of_casualties'],\n",
    "                               name = \"Year 2005-2010\"))\n",
    "        figure.add_trace(go.Bar(x =get_df(weather, \"2011\", \"2015\")['weather_conditions'], y=get_df(weather, \"2011\", \"2015\")['number_of_casualties'],\n",
    "                               name = \"Year 2011-2015\"))\n",
    "        figure.add_trace(go.Bar(x =get_df(weather, \"2016\", \"2020\")['weather_conditions'], y=get_df(weather, \"2016\", \"2020\")['number_of_casualties'],\n",
    "                               name = \"Year 2016-2020\"))\n",
    "        \n",
    "    elif fig_name == 'Consequence of Skidding': \n",
    "        figure.add_trace(go.Bar(x =get_df(skidding, \"2000\", \"2004\")['skidding_and_overturning'], y=get_df(skidding, \"2000\", \"2005\")['number_of_casualties'],\n",
    "                               name = \"Year 2000-2004\"))\n",
    "        figure.add_trace(go.Bar(x =get_df(skidding, \"2005\", \"2010\")['skidding_and_overturning'], y=get_df(skidding, \"2005\", \"2010\")['number_of_casualties'],\n",
    "                               name = \"Year 2005-2010\"))\n",
    "        figure.add_trace(go.Bar(x =get_df(skidding, \"2011\", \"2015\")['skidding_and_overturning'], y=get_df(skidding, \"2011\", \"2015\")['number_of_casualties'],\n",
    "                               name = \"Year 2011-2015\"))\n",
    "        figure.add_trace(go.Bar(x =get_df(skidding, \"2016\", \"2020\")['skidding_and_overturning'], y=get_df(skidding, \"2016\", \"2020\")['number_of_casualties'],\n",
    "                               name = \"Year 2016-2020\"))\n",
    "        \n",
    "    \n",
    "    elif fig_name == 'Surface of Road': \n",
    "        figure.add_trace(go.Bar(x =get_df(road, \"2000\", \"2004\")['road_surface_conditions'], y=get_df(road, \"2000\", \"2005\")['number_of_casualties'],\n",
    "                               name = \"Year 2000-2004\"))\n",
    "        figure.add_trace(go.Bar(x =get_df(road, \"2005\", \"2010\")['road_surface_conditions'], y=get_df(road, \"2005\", \"2010\")['number_of_casualties'],\n",
    "                               name = \"Year 2005-2010\"))\n",
    "        figure.add_trace(go.Bar(x =get_df(road, \"2011\", \"2015\")['road_surface_conditions'], y=get_df(road, \"2011\", \"2015\")['number_of_casualties'],\n",
    "                               name = \"Year 2011-2015\"))\n",
    "        figure.add_trace(go.Bar(x =get_df(road, \"2016\", \"2020\")['road_surface_conditions'], y=get_df(road, \"2016\", \"2020\")['number_of_casualties'],\n",
    "                               name = \"Year 2016-2020\"))\n",
    "        \n",
    "    elif fig_name == 'Special scene at sight': \n",
    "        figure.add_trace(go.Bar(x =get_df(site, \"2000\", \"2004\")['special_conditions_at_site'], y=get_df(light, \"2000\", \"2005\")['number_of_casualties'],\n",
    "                               name = \"Year 2000-2004\"))\n",
    "        figure.add_trace(go.Bar(x =get_df(site, \"2005\", \"2010\")['special_conditions_at_site'], y=get_df(light, \"2005\", \"2010\")['number_of_casualties'],\n",
    "                               name = \"Year 2005-2010\"))\n",
    "        figure.add_trace(go.Bar(x =get_df(site, \"2011\", \"2015\")['special_conditions_at_site'], y=get_df(light, \"2011\", \"2015\")['number_of_casualties'],\n",
    "                               name = \"Year 2011-2015\"))\n",
    "        figure.add_trace(go.Bar(x =get_df(site, \"2016\", \"2020\")['special_conditions_at_site'], y=get_df(light, \"2016\", \"2020\")['number_of_casualties'],\n",
    "                               name = \"Year 2016-2020\"))\n",
    "    \n",
    "    return dcc.Graph(figure=figure.update_layout(title_text=\"Various Enviormental Factors that affected number of accidents\"))\n",
    "\n",
    "app.run_server(debug=True, use_reloader=False)"
   ]
  },
  {
   "cell_type": "code",
   "execution_count": null,
   "metadata": {},
   "outputs": [],
   "source": [
    "relevant_factors"
   ]
  }
 ],
 "metadata": {
  "kernelspec": {
   "display_name": "Python 3",
   "language": "python",
   "name": "python3"
  },
  "language_info": {
   "codemirror_mode": {
    "name": "ipython",
    "version": 3
   },
   "file_extension": ".py",
   "mimetype": "text/x-python",
   "name": "python",
   "nbconvert_exporter": "python",
   "pygments_lexer": "ipython3",
   "version": "3.8.5"
  }
 },
 "nbformat": 4,
 "nbformat_minor": 4
}
