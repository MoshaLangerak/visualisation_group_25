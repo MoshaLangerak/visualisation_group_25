{
 "cells": [
  {
   "cell_type": "code",
   "execution_count": 2,
   "metadata": {},
   "outputs": [],
   "source": [
    "import pandas as pd\n",
    "import numpy as np\n",
    "from functools import reduce\n",
    "import matplotlib.pyplot as plt\n",
    "from matplotlib.pyplot import figure\n"
   ]
  },
  {
   "cell_type": "code",
   "execution_count": 57,
   "metadata": {},
   "outputs": [],
   "source": [
    "pd.set_option('display.max_columns', None)"
   ]
  },
  {
   "cell_type": "code",
   "execution_count": 5,
   "metadata": {},
   "outputs": [
    {
     "name": "stderr",
     "output_type": "stream",
     "text": [
      "/opt/anaconda3/lib/python3.8/site-packages/IPython/core/interactiveshell.py:3146: DtypeWarning: Columns (0,2) have mixed types.Specify dtype option on import or set low_memory=False.\n",
      "  has_raised = await self.run_ast_nodes(code_ast.body, cell_name,\n"
     ]
    }
   ],
   "source": [
    "accident = pd.read_csv(\"dft-road-casualty-statistics-accident-2020.csv\")"
   ]
  },
  {
   "cell_type": "code",
   "execution_count": 3,
   "metadata": {},
   "outputs": [
    {
     "name": "stderr",
     "output_type": "stream",
     "text": [
      "/opt/anaconda3/lib/python3.8/site-packages/IPython/core/interactiveshell.py:3146: DtypeWarning: Columns (0,1,2,3,4,18,21,22,23,26,27,28,30,35,36,37,39,40,41,42,43,48,49,50,51,52,53,54,55,56,57,58,59) have mixed types.Specify dtype option on import or set low_memory=False.\n",
      "  has_raised = await self.run_ast_nodes(code_ast.body, cell_name,\n"
     ]
    }
   ],
   "source": [
    "dataset = pd.read_csv(\"dataset_canvas.csv\")"
   ]
  },
  {
   "cell_type": "code",
   "execution_count": 4,
   "metadata": {},
   "outputs": [],
   "source": [
    "casuality_1979 = pd.read_csv(\"dft-road-casualty-statistics-casualty-1979-2020.csv\")"
   ]
  },
  {
   "cell_type": "code",
   "execution_count": 5,
   "metadata": {},
   "outputs": [],
   "source": [
    "casuality = pd.read_csv(\"dft-road-casualty-statistics-casualty-2020.csv\")"
   ]
  },
  {
   "cell_type": "code",
   "execution_count": 6,
   "metadata": {},
   "outputs": [],
   "source": [
    "vehicles = pd.read_csv(\"dft-road-casualty-statistics-vehicle-2020.csv\")"
   ]
  },
  {
   "cell_type": "code",
   "execution_count": 7,
   "metadata": {},
   "outputs": [
    {
     "name": "stderr",
     "output_type": "stream",
     "text": [
      "/opt/anaconda3/lib/python3.8/site-packages/IPython/core/interactiveshell.py:3146: DtypeWarning: Columns (0,2,24) have mixed types.Specify dtype option on import or set low_memory=False.\n",
      "  has_raised = await self.run_ast_nodes(code_ast.body, cell_name,\n"
     ]
    }
   ],
   "source": [
    "vehicles_1979 = pd.read_csv(\"dft-road-casualty-statistics-vehicle-1979-2020.csv\")"
   ]
  },
  {
   "cell_type": "code",
   "execution_count": 9,
   "metadata": {},
   "outputs": [],
   "source": [
    "## Visualsing- 2015 dataset"
   ]
  },
  {
   "cell_type": "code",
   "execution_count": null,
   "metadata": {},
   "outputs": [],
   "source": [
    "## ToDo:\n",
    "# Visualise stats from all attributes \n",
    "# Get multicolineary for variables and comment on which one is useful \n",
    "# further look into drug use, other relavnt areas for spikes in traffic caulaties \n",
    "# and how to maintain everything\n",
    "# check the distribtion of stuff"
   ]
  },
  {
   "cell_type": "code",
   "execution_count": 4,
   "metadata": {},
   "outputs": [],
   "source": [
    "# Splitting of dataset df\n",
    "location = dataset[['Location_Easting_OSGR',\n",
    "                   'Location_Northing_OSGR',\n",
    "                   'Longitude', 'Latitude',\n",
    "                   'LSOA_of_Accident_Location',\n",
    "                   'Urban_or_Rural_Area']]\n",
    "road = dataset[['Accident_Index', 'Date', 'Day_of_Week', 'Time',\n",
    "                'Number_of_Vehicles',\n",
    "               '1st_Road_Class',\n",
    "               '1st_Road_Number',\n",
    "               'Road_Type',\n",
    "               'Speed_limit',\n",
    "               'Junction_Detail',\n",
    "               'Junction_Control',\n",
    "               '2nd_Road_Class',\n",
    "               '2nd_Road_Number',\n",
    "               'Pedestrian_Crossing-Human_Control',\n",
    "               'Pedestrian_Crossing-Physical_Facilities',\n",
    "               'Light_Conditions',\n",
    "               'Weather_Conditions',\n",
    "               'Road_Surface_Conditions',\n",
    "               'Special_Conditions_at_Site',\n",
    "               'Carriageway_Hazards',\n",
    "               'Pedestrian_Location',\n",
    "               'Pedestrian_Movement',\n",
    "               \"Junction_Location\",\n",
    "               \"Skidding_and_Overturning\"]]\n",
    "\n",
    "casualty_metrics = dataset[['Accident_Index', 'Date', \n",
    "                            'Day_of_Week', 'Time','Accident_Severity',\n",
    "                 'Number_of_Casualties',\n",
    "                 'Casualty_Reference',\n",
    "                     'Casualty_Class',\n",
    "                     'Casualty_Severity',\n",
    "                     'Casualty_Type',\n",
    "                     'Vehicle_Manoeuvre',]]\n",
    "accident = dataset[['Accident_Index', 'Date', 'Day_of_Week', 'Time',\n",
    "             '1st_Point_of_Impact']]\n",
    "\n",
    "driver = dataset[['Accident_Index', 'Date', 'Day_of_Week', 'Time',\n",
    "           'Sex_of_Driver',\n",
    "          'Journey_Purpose_of_Driver',\n",
    "          'Age_of_Driver',\n",
    "          'Age_Band_of_Driver',\n",
    "          'Driver_Home_Area_Type']]\n",
    "\n",
    "casualty = dataset[['Accident_Index', 'Date', 'Day_of_Week', 'Time',\n",
    "             \"Casualty_Home_Area_Type\",\n",
    "            'Age_Band_of_Casualty',\n",
    "            'Sex_of_Casualty']]"
   ]
  },
  {
   "cell_type": "code",
   "execution_count": 5,
   "metadata": {},
   "outputs": [],
   "source": [
    "index = ['Accident_Index', 'Date', 'Day_of_Week', 'Time']"
   ]
  },
  {
   "cell_type": "code",
   "execution_count": 6,
   "metadata": {},
   "outputs": [
    {
     "data": {
      "text/plain": [
       "array([ 0,  1,  3,  9,  5,  8, 11,  4, 19,  2, 20, 90, 21, 10, 17, 18, 16,\n",
       "       22, 97, 98, 23])"
      ]
     },
     "execution_count": 6,
     "metadata": {},
     "output_type": "execute_result"
    }
   ],
   "source": [
    "casualty_metrics.Casualty_Type.unique()"
   ]
  },
  {
   "cell_type": "code",
   "execution_count": 7,
   "metadata": {},
   "outputs": [],
   "source": [
    "one = casualty_metrics.Accident_Severity.value_counts(normalize=True).sort_index()\n",
    "\n",
    "two = casualty_metrics.Casualty_Severity.value_counts(normalize=True).sort_index()\n",
    "\n",
    "three = (casualty_metrics.Casualty_Class.value_counts(normalize=True))"
   ]
  },
  {
   "cell_type": "code",
   "execution_count": 8,
   "metadata": {},
   "outputs": [],
   "source": [
    "#x = [one.keys().tolist(), two.keys().tolist(),three.keys().tolist()]\n",
    "x = [1, 2, 3]\n",
    "y = one.tolist()\n",
    "z = two.tolist()\n",
    "k = three.tolist()\n"
   ]
  },
  {
   "cell_type": "code",
   "execution_count": 39,
   "metadata": {},
   "outputs": [
    {
     "data": {
      "image/png": "[encoded data removed]",
      "text/plain": [
       "<Figure size 432x288 with 1 Axes>"
      ]
     },
     "metadata": {
      "needs_background": "light"
     },
     "output_type": "display_data"
    }
   ],
   "source": [
    "N = 3\n",
    "ind = np.arange(N) \n",
    "width = 0.25\n",
    "  \n",
    "xvals = one\n",
    "bar1 = plt.bar(ind, xvals, width, color = 'blue')\n",
    "  \n",
    "yvals = two\n",
    "bar2 = plt.bar(ind+width, yvals, width, color='orange')\n",
    "  \n",
    "zvals = three\n",
    "bar3 = plt.bar(ind+width*2, zvals, width, color = 'purple')\n",
    "  \n",
    "plt.xlabel(\"Classes\")\n",
    "plt.ylabel('Frequency')\n",
    "plt.title(\"Distribution of accidents\")\n",
    "  \n",
    "plt.xticks(ind+width,[1, 2, 3])\n",
    "plt.legend( (bar1, bar2, bar3), ('Accident_Severity', 'Casualty_Severity', 'Casualty_Class') )\n",
    "plt.show()"
   ]
  },
  {
   "cell_type": "code",
   "execution_count": 10,
   "metadata": {},
   "outputs": [],
   "source": [
    "\n",
    "continous = casualty_metrics[[\"Number_of_Casualties\",\n",
    "                 \"Casualty_Reference\",\n",
    "                  \"Casualty_Type\"]].describe()"
   ]
  },
  {
   "cell_type": "code",
   "execution_count": 11,
   "metadata": {},
   "outputs": [
    {
     "data": {
      "image/png": "[encoded data removed]",
      "text/plain": [
       "<Figure size 432x288 with 1 Axes>"
      ]
     },
     "metadata": {
      "needs_background": "light"
     },
     "output_type": "display_data"
    }
   ],
   "source": [
    "casualty_metrics.boxplot(by ='Day_of_Week', column =['Number_of_Casualties'], grid = False);\n"
   ]
  },
  {
   "cell_type": "code",
   "execution_count": 12,
   "metadata": {},
   "outputs": [],
   "source": [
    "# road.Skidding_and_Overturning\n",
    "vals = []\n",
    "for col in road:\n",
    "    vals.append(road[col].unique())\n",
    "cols = road.columns\n",
    "categorical_or = list(zip(cols, vals))"
   ]
  },
  {
   "cell_type": "code",
   "execution_count": 14,
   "metadata": {},
   "outputs": [],
   "source": [
    "junction_location = []\n",
    "for i in dataset.Junction_Location:\n",
    "    if i == '?':\n",
    "        junction_location.append(-1)\n",
    "    else:\n",
    "        junction_location.append(int(i))\n",
    "        \n",
    "dataset['junction_location'] = junction_location"
   ]
  },
  {
   "cell_type": "code",
   "execution_count": 15,
   "metadata": {},
   "outputs": [],
   "source": [
    "new_dataset = dataset[['Number_of_Casualties', 'junction_location']]"
   ]
  },
  {
   "cell_type": "code",
   "execution_count": 16,
   "metadata": {},
   "outputs": [
    {
     "data": {
      "text/plain": [
       "<AxesSubplot:title={'center':'Number of Causailties at Junction'}, xlabel='Junction', ylabel='# Casualities'>"
      ]
     },
     "execution_count": 16,
     "metadata": {},
     "output_type": "execute_result"
    },
    {
     "data": {
      "image/png": "[encoded data removed]",
      "text/plain": [
       "<Figure size 432x360 with 1 Axes>"
      ]
     },
     "metadata": {
      "needs_background": "light"
     },
     "output_type": "display_data"
    }
   ],
   "source": [
    "dfg = new_dataset.groupby(['junction_location']).count()\n",
    "dfg.plot(kind='bar', title='Number of Causailties at Junction', ylabel='# Casualities',\n",
    "         xlabel='Junction', figsize=(6, 5))"
   ]
  },
  {
   "cell_type": "code",
   "execution_count": 32,
   "metadata": {},
   "outputs": [],
   "source": [
    "def processing(df, col, name):\n",
    "    lst = []\n",
    "    for i in df[col]:\n",
    "        if i == '?':\n",
    "            lst.append(-1)\n",
    "        else:\n",
    "            lst.append(int(i))\n",
    "        \n",
    "    dataset[name] = lst\n",
    "    \n",
    "    \n",
    "def graphing(df, col_name, title, x_lab):\n",
    "    new_dataset = df[['Number_of_Casualties', col_name]]\n",
    "    dfg = new_dataset.groupby([col_name]).mean()\n",
    "    dfg.plot(kind='bar', title=title, ylabel='# Casualities',\n",
    "         xlabel=x_lab, figsize=(6, 5))\n",
    "    "
   ]
  },
  {
   "cell_type": "code",
   "execution_count": 33,
   "metadata": {},
   "outputs": [
    {
     "data": {
      "image/png": "[encoded data removed]",
      "text/plain": [
       "<Figure size 432x360 with 1 Axes>"
      ]
     },
     "metadata": {
      "needs_background": "light"
     },
     "output_type": "display_data"
    }
   ],
   "source": [
    "graphing(dataset, \"Light_Conditions\", \"How does light impact causlity numbers?\",\n",
    "        \"level of light condition\")"
   ]
  },
  {
   "cell_type": "code",
   "execution_count": 35,
   "metadata": {},
   "outputs": [
    {
     "data": {
      "image/png": "[encoded data removed]",
      "text/plain": [
       "<Figure size 432x360 with 1 Axes>"
      ]
     },
     "metadata": {
      "needs_background": "light"
     },
     "output_type": "display_data"
    }
   ],
   "source": [
    "graphing(dataset, \"Weather_Conditions\", \"How does weather impact causlity numbers?\",\n",
    "        \"level of weather condition\")\n"
   ]
  },
  {
   "cell_type": "code",
   "execution_count": 37,
   "metadata": {},
   "outputs": [
    {
     "data": {
      "image/png": "[encoded data removed]",
      "text/plain": [
       "<Figure size 432x360 with 1 Axes>"
      ]
     },
     "metadata": {
      "needs_background": "light"
     },
     "output_type": "display_data"
    }
   ],
   "source": [
    "processing(dataset, \"Road_Surface_Conditions\", \"road_surface\")\n",
    "graphing(dataset, \"road_surface\", \"How does road_surface impact causlity ?\",\n",
    "        \"level of road_surface condition\")"
   ]
  },
  {
   "cell_type": "code",
   "execution_count": null,
   "metadata": {},
   "outputs": [],
   "source": [
    "# Effect of conditions on accident through out time\n",
    "# Junction location and accidents\n",
    "\n",
    "dataset.plot(x = \"junction_location\", y = \"Number_of_Casualties\", kind = \"bar\", legend = False)\n",
    "plt.show()"
   ]
  },
  {
   "cell_type": "code",
   "execution_count": 199,
   "metadata": {},
   "outputs": [],
   "source": [
    "columns = ['Skidding_and_Overturning', \"Junction_Location\", \n",
    "          \"Pedestrian_Movement\", \"Pedestrian_Location\",\n",
    "          \"Carriageway_Hazards\", \"Special_Conditions_at_Site\"]"
   ]
  },
  {
   "cell_type": "code",
   "execution_count": 40,
   "metadata": {},
   "outputs": [
    {
     "data": {
      "text/html": [
       "<div>\n",
       "<style scoped>\n",
       "    .dataframe tbody tr th:only-of-type {\n",
       "        vertical-align: middle;\n",
       "    }\n",
       "\n",
       "    .dataframe tbody tr th {\n",
       "        vertical-align: top;\n",
       "    }\n",
       "\n",
       "    .dataframe thead th {\n",
       "        text-align: right;\n",
       "    }\n",
       "</style>\n",
       "<table border=\"1\" class=\"dataframe\">\n",
       "  <thead>\n",
       "    <tr style=\"text-align: right;\">\n",
       "      <th></th>\n",
       "      <th>Accident_Index</th>\n",
       "      <th>Location_Easting_OSGR</th>\n",
       "      <th>Location_Northing_OSGR</th>\n",
       "      <th>Longitude</th>\n",
       "      <th>Latitude</th>\n",
       "      <th>Police_Force</th>\n",
       "      <th>Accident_Severity</th>\n",
       "      <th>Number_of_Vehicles</th>\n",
       "      <th>Number_of_Casualties</th>\n",
       "      <th>Date</th>\n",
       "      <th>...</th>\n",
       "      <th>Sex_of_Driver</th>\n",
       "      <th>Age_of_Driver</th>\n",
       "      <th>Age_Band_of_Driver</th>\n",
       "      <th>Engine_Capacity_(CC)</th>\n",
       "      <th>Propulsion_Code</th>\n",
       "      <th>Age_of_Vehicle</th>\n",
       "      <th>Driver_Home_Area_Type</th>\n",
       "      <th>junction_location</th>\n",
       "      <th>skidding</th>\n",
       "      <th>road_surface</th>\n",
       "    </tr>\n",
       "  </thead>\n",
       "  <tbody>\n",
       "    <tr>\n",
       "      <th>0</th>\n",
       "      <td>201501BS70001</td>\n",
       "      <td>525130</td>\n",
       "      <td>180050</td>\n",
       "      <td>-0.198465</td>\n",
       "      <td>51.505538</td>\n",
       "      <td>1</td>\n",
       "      <td>3</td>\n",
       "      <td>1</td>\n",
       "      <td>1</td>\n",
       "      <td>12/01/2015</td>\n",
       "      <td>...</td>\n",
       "      <td>1</td>\n",
       "      <td>?</td>\n",
       "      <td>?</td>\n",
       "      <td>2143</td>\n",
       "      <td>2</td>\n",
       "      <td>4</td>\n",
       "      <td>?</td>\n",
       "      <td>8</td>\n",
       "      <td>0</td>\n",
       "      <td>1</td>\n",
       "    </tr>\n",
       "    <tr>\n",
       "      <th>1</th>\n",
       "      <td>201501BS70002</td>\n",
       "      <td>526530</td>\n",
       "      <td>178560</td>\n",
       "      <td>-0.178838</td>\n",
       "      <td>51.491836</td>\n",
       "      <td>1</td>\n",
       "      <td>3</td>\n",
       "      <td>1</td>\n",
       "      <td>1</td>\n",
       "      <td>12/01/2015</td>\n",
       "      <td>...</td>\n",
       "      <td>1</td>\n",
       "      <td>?</td>\n",
       "      <td>?</td>\n",
       "      <td>1600</td>\n",
       "      <td>1</td>\n",
       "      <td>3</td>\n",
       "      <td>?</td>\n",
       "      <td>8</td>\n",
       "      <td>0</td>\n",
       "      <td>1</td>\n",
       "    </tr>\n",
       "  </tbody>\n",
       "</table>\n",
       "<p>2 rows × 70 columns</p>\n",
       "</div>"
      ],
      "text/plain": [
       "  Accident_Index Location_Easting_OSGR Location_Northing_OSGR Longitude  \\\n",
       "0  201501BS70001                525130                 180050 -0.198465   \n",
       "1  201501BS70002                526530                 178560 -0.178838   \n",
       "\n",
       "    Latitude  Police_Force  Accident_Severity  Number_of_Vehicles  \\\n",
       "0  51.505538             1                  3                   1   \n",
       "1  51.491836             1                  3                   1   \n",
       "\n",
       "   Number_of_Casualties        Date  ...  Sex_of_Driver Age_of_Driver  \\\n",
       "0                     1  12/01/2015  ...              1             ?   \n",
       "1                     1  12/01/2015  ...              1             ?   \n",
       "\n",
       "   Age_Band_of_Driver Engine_Capacity_(CC)  Propulsion_Code  Age_of_Vehicle  \\\n",
       "0                   ?                 2143                2               4   \n",
       "1                   ?                 1600                1               3   \n",
       "\n",
       "   Driver_Home_Area_Type  junction_location skidding road_surface  \n",
       "0                      ?                  8        0            1  \n",
       "1                      ?                  8        0            1  \n",
       "\n",
       "[2 rows x 70 columns]"
      ]
     },
     "execution_count": 40,
     "metadata": {},
     "output_type": "execute_result"
    }
   ],
   "source": [
    "dataset.head(2)"
   ]
  },
  {
   "cell_type": "code",
   "execution_count": 54,
   "metadata": {},
   "outputs": [],
   "source": [
    "heatmap = dataset[['Accident_Severity']]"
   ]
  },
  {
   "cell_type": "code",
   "execution_count": 58,
   "metadata": {},
   "outputs": [
    {
     "data": {
      "text/html": [
       "<div>\n",
       "<style scoped>\n",
       "    .dataframe tbody tr th:only-of-type {\n",
       "        vertical-align: middle;\n",
       "    }\n",
       "\n",
       "    .dataframe tbody tr th {\n",
       "        vertical-align: top;\n",
       "    }\n",
       "\n",
       "    .dataframe thead th {\n",
       "        text-align: right;\n",
       "    }\n",
       "</style>\n",
       "<table border=\"1\" class=\"dataframe\">\n",
       "  <thead>\n",
       "    <tr style=\"text-align: right;\">\n",
       "      <th></th>\n",
       "      <th>Accident_Index</th>\n",
       "      <th>Location_Easting_OSGR</th>\n",
       "      <th>Location_Northing_OSGR</th>\n",
       "      <th>Longitude</th>\n",
       "      <th>Latitude</th>\n",
       "      <th>Police_Force</th>\n",
       "      <th>Accident_Severity</th>\n",
       "      <th>Number_of_Vehicles</th>\n",
       "      <th>Number_of_Casualties</th>\n",
       "      <th>Date</th>\n",
       "      <th>Day_of_Week</th>\n",
       "      <th>Time</th>\n",
       "      <th>Local_Authority_(District)</th>\n",
       "      <th>Local_Authority_(Highway)</th>\n",
       "      <th>1st_Road_Class</th>\n",
       "      <th>1st_Road_Number</th>\n",
       "      <th>Road_Type</th>\n",
       "      <th>Speed_limit</th>\n",
       "      <th>Junction_Detail</th>\n",
       "      <th>Junction_Control</th>\n",
       "      <th>2nd_Road_Class</th>\n",
       "      <th>2nd_Road_Number</th>\n",
       "      <th>Pedestrian_Crossing-Human_Control</th>\n",
       "      <th>Pedestrian_Crossing-Physical_Facilities</th>\n",
       "      <th>Light_Conditions</th>\n",
       "      <th>Weather_Conditions</th>\n",
       "      <th>Road_Surface_Conditions</th>\n",
       "      <th>Special_Conditions_at_Site</th>\n",
       "      <th>Carriageway_Hazards</th>\n",
       "      <th>Urban_or_Rural_Area</th>\n",
       "      <th>Did_Police_Officer_Attend_Scene_of_Accident</th>\n",
       "      <th>LSOA_of_Accident_Location</th>\n",
       "      <th>Vehicle_Reference_df_res</th>\n",
       "      <th>Casualty_Reference</th>\n",
       "      <th>Casualty_Class</th>\n",
       "      <th>Sex_of_Casualty</th>\n",
       "      <th>Age_of_Casualty</th>\n",
       "      <th>Age_Band_of_Casualty</th>\n",
       "      <th>Casualty_Severity</th>\n",
       "      <th>Pedestrian_Location</th>\n",
       "      <th>Pedestrian_Movement</th>\n",
       "      <th>Car_Passenger</th>\n",
       "      <th>Bus_or_Coach_Passenger</th>\n",
       "      <th>Pedestrian_Road_Maintenance_Worker</th>\n",
       "      <th>Casualty_Type</th>\n",
       "      <th>Casualty_Home_Area_Type</th>\n",
       "      <th>Casualty_IMD_Decile</th>\n",
       "      <th>Vehicle_Reference_df</th>\n",
       "      <th>Vehicle_Type</th>\n",
       "      <th>Towing_and_Articulation</th>\n",
       "      <th>Vehicle_Manoeuvre</th>\n",
       "      <th>Vehicle_Location-Restricted_Lane</th>\n",
       "      <th>Junction_Location</th>\n",
       "      <th>Skidding_and_Overturning</th>\n",
       "      <th>Hit_Object_in_Carriageway</th>\n",
       "      <th>Vehicle_Leaving_Carriageway</th>\n",
       "      <th>Hit_Object_off_Carriageway</th>\n",
       "      <th>1st_Point_of_Impact</th>\n",
       "      <th>Was_Vehicle_Left_Hand_Drive?</th>\n",
       "      <th>Journey_Purpose_of_Driver</th>\n",
       "      <th>Sex_of_Driver</th>\n",
       "      <th>Age_of_Driver</th>\n",
       "      <th>Age_Band_of_Driver</th>\n",
       "      <th>Engine_Capacity_(CC)</th>\n",
       "      <th>Propulsion_Code</th>\n",
       "      <th>Age_of_Vehicle</th>\n",
       "      <th>Driver_Home_Area_Type</th>\n",
       "      <th>junction_location</th>\n",
       "      <th>skidding</th>\n",
       "      <th>road_surface</th>\n",
       "    </tr>\n",
       "  </thead>\n",
       "  <tbody>\n",
       "    <tr>\n",
       "      <th>0</th>\n",
       "      <td>201501BS70001</td>\n",
       "      <td>525130</td>\n",
       "      <td>180050</td>\n",
       "      <td>-0.198465</td>\n",
       "      <td>51.505538</td>\n",
       "      <td>1</td>\n",
       "      <td>3</td>\n",
       "      <td>1</td>\n",
       "      <td>1</td>\n",
       "      <td>12/01/2015</td>\n",
       "      <td>2</td>\n",
       "      <td>18:45</td>\n",
       "      <td>12</td>\n",
       "      <td>E09000020</td>\n",
       "      <td>5</td>\n",
       "      <td>0</td>\n",
       "      <td>6</td>\n",
       "      <td>30</td>\n",
       "      <td>3</td>\n",
       "      <td>4</td>\n",
       "      <td>6</td>\n",
       "      <td>0</td>\n",
       "      <td>0</td>\n",
       "      <td>0</td>\n",
       "      <td>4</td>\n",
       "      <td>1</td>\n",
       "      <td>1</td>\n",
       "      <td>0</td>\n",
       "      <td>0</td>\n",
       "      <td>1</td>\n",
       "      <td>1</td>\n",
       "      <td>E01002825</td>\n",
       "      <td>1</td>\n",
       "      <td>1</td>\n",
       "      <td>3</td>\n",
       "      <td>2</td>\n",
       "      <td>41</td>\n",
       "      <td>7</td>\n",
       "      <td>3</td>\n",
       "      <td>5</td>\n",
       "      <td>1</td>\n",
       "      <td>0</td>\n",
       "      <td>0</td>\n",
       "      <td>2</td>\n",
       "      <td>0</td>\n",
       "      <td>?</td>\n",
       "      <td>?</td>\n",
       "      <td>1</td>\n",
       "      <td>19</td>\n",
       "      <td>0</td>\n",
       "      <td>9</td>\n",
       "      <td>0</td>\n",
       "      <td>8</td>\n",
       "      <td>0</td>\n",
       "      <td>0</td>\n",
       "      <td>0</td>\n",
       "      <td>0</td>\n",
       "      <td>1</td>\n",
       "      <td>1</td>\n",
       "      <td>1</td>\n",
       "      <td>1</td>\n",
       "      <td>?</td>\n",
       "      <td>?</td>\n",
       "      <td>2143</td>\n",
       "      <td>2</td>\n",
       "      <td>4</td>\n",
       "      <td>?</td>\n",
       "      <td>8</td>\n",
       "      <td>0</td>\n",
       "      <td>1</td>\n",
       "    </tr>\n",
       "    <tr>\n",
       "      <th>1</th>\n",
       "      <td>201501BS70002</td>\n",
       "      <td>526530</td>\n",
       "      <td>178560</td>\n",
       "      <td>-0.178838</td>\n",
       "      <td>51.491836</td>\n",
       "      <td>1</td>\n",
       "      <td>3</td>\n",
       "      <td>1</td>\n",
       "      <td>1</td>\n",
       "      <td>12/01/2015</td>\n",
       "      <td>2</td>\n",
       "      <td>07:50</td>\n",
       "      <td>12</td>\n",
       "      <td>E09000020</td>\n",
       "      <td>6</td>\n",
       "      <td>0</td>\n",
       "      <td>6</td>\n",
       "      <td>30</td>\n",
       "      <td>3</td>\n",
       "      <td>4</td>\n",
       "      <td>3</td>\n",
       "      <td>3218</td>\n",
       "      <td>0</td>\n",
       "      <td>0</td>\n",
       "      <td>1</td>\n",
       "      <td>1</td>\n",
       "      <td>1</td>\n",
       "      <td>0</td>\n",
       "      <td>0</td>\n",
       "      <td>1</td>\n",
       "      <td>1</td>\n",
       "      <td>E01002820</td>\n",
       "      <td>1</td>\n",
       "      <td>1</td>\n",
       "      <td>3</td>\n",
       "      <td>1</td>\n",
       "      <td>24</td>\n",
       "      <td>5</td>\n",
       "      <td>3</td>\n",
       "      <td>9</td>\n",
       "      <td>9</td>\n",
       "      <td>0</td>\n",
       "      <td>0</td>\n",
       "      <td>2</td>\n",
       "      <td>0</td>\n",
       "      <td>1</td>\n",
       "      <td>3</td>\n",
       "      <td>1</td>\n",
       "      <td>9</td>\n",
       "      <td>0</td>\n",
       "      <td>9</td>\n",
       "      <td>0</td>\n",
       "      <td>8</td>\n",
       "      <td>0</td>\n",
       "      <td>0</td>\n",
       "      <td>0</td>\n",
       "      <td>0</td>\n",
       "      <td>1</td>\n",
       "      <td>1</td>\n",
       "      <td>6</td>\n",
       "      <td>1</td>\n",
       "      <td>?</td>\n",
       "      <td>?</td>\n",
       "      <td>1600</td>\n",
       "      <td>1</td>\n",
       "      <td>3</td>\n",
       "      <td>?</td>\n",
       "      <td>8</td>\n",
       "      <td>0</td>\n",
       "      <td>1</td>\n",
       "    </tr>\n",
       "  </tbody>\n",
       "</table>\n",
       "</div>"
      ],
      "text/plain": [
       "  Accident_Index Location_Easting_OSGR Location_Northing_OSGR Longitude  \\\n",
       "0  201501BS70001                525130                 180050 -0.198465   \n",
       "1  201501BS70002                526530                 178560 -0.178838   \n",
       "\n",
       "    Latitude  Police_Force  Accident_Severity  Number_of_Vehicles  \\\n",
       "0  51.505538             1                  3                   1   \n",
       "1  51.491836             1                  3                   1   \n",
       "\n",
       "   Number_of_Casualties        Date  Day_of_Week   Time  \\\n",
       "0                     1  12/01/2015            2  18:45   \n",
       "1                     1  12/01/2015            2  07:50   \n",
       "\n",
       "   Local_Authority_(District) Local_Authority_(Highway)  1st_Road_Class  \\\n",
       "0                          12                 E09000020               5   \n",
       "1                          12                 E09000020               6   \n",
       "\n",
       "   1st_Road_Number  Road_Type  Speed_limit Junction_Detail Junction_Control  \\\n",
       "0                0          6           30               3                4   \n",
       "1                0          6           30               3                4   \n",
       "\n",
       "  2nd_Road_Class 2nd_Road_Number Pedestrian_Crossing-Human_Control  \\\n",
       "0              6               0                                 0   \n",
       "1              3            3218                                 0   \n",
       "\n",
       "  Pedestrian_Crossing-Physical_Facilities  Light_Conditions  \\\n",
       "0                                       0                 4   \n",
       "1                                       0                 1   \n",
       "\n",
       "   Weather_Conditions Road_Surface_Conditions Special_Conditions_at_Site  \\\n",
       "0                   1                       1                          0   \n",
       "1                   1                       1                          0   \n",
       "\n",
       "  Carriageway_Hazards  Urban_or_Rural_Area  \\\n",
       "0                   0                    1   \n",
       "1                   0                    1   \n",
       "\n",
       "  Did_Police_Officer_Attend_Scene_of_Accident LSOA_of_Accident_Location  \\\n",
       "0                                           1                 E01002825   \n",
       "1                                           1                 E01002820   \n",
       "\n",
       "   Vehicle_Reference_df_res  Casualty_Reference  Casualty_Class  \\\n",
       "0                         1                   1               3   \n",
       "1                         1                   1               3   \n",
       "\n",
       "  Sex_of_Casualty Age_of_Casualty Age_Band_of_Casualty  Casualty_Severity  \\\n",
       "0               2              41                    7                  3   \n",
       "1               1              24                    5                  3   \n",
       "\n",
       "  Pedestrian_Location Pedestrian_Movement Car_Passenger  \\\n",
       "0                   5                   1             0   \n",
       "1                   9                   9             0   \n",
       "\n",
       "  Bus_or_Coach_Passenger Pedestrian_Road_Maintenance_Worker  Casualty_Type  \\\n",
       "0                      0                                  2              0   \n",
       "1                      0                                  2              0   \n",
       "\n",
       "  Casualty_Home_Area_Type Casualty_IMD_Decile  Vehicle_Reference_df  \\\n",
       "0                       ?                   ?                     1   \n",
       "1                       1                   3                     1   \n",
       "\n",
       "  Vehicle_Type Towing_and_Articulation Vehicle_Manoeuvre  \\\n",
       "0           19                       0                 9   \n",
       "1            9                       0                 9   \n",
       "\n",
       "  Vehicle_Location-Restricted_Lane Junction_Location Skidding_and_Overturning  \\\n",
       "0                                0                 8                        0   \n",
       "1                                0                 8                        0   \n",
       "\n",
       "  Hit_Object_in_Carriageway Vehicle_Leaving_Carriageway  \\\n",
       "0                         0                           0   \n",
       "1                         0                           0   \n",
       "\n",
       "  Hit_Object_off_Carriageway 1st_Point_of_Impact Was_Vehicle_Left_Hand_Drive?  \\\n",
       "0                          0                   1                            1   \n",
       "1                          0                   1                            1   \n",
       "\n",
       "  Journey_Purpose_of_Driver  Sex_of_Driver Age_of_Driver Age_Band_of_Driver  \\\n",
       "0                         1              1             ?                  ?   \n",
       "1                         6              1             ?                  ?   \n",
       "\n",
       "  Engine_Capacity_(CC) Propulsion_Code Age_of_Vehicle Driver_Home_Area_Type  \\\n",
       "0                 2143               2              4                     ?   \n",
       "1                 1600               1              3                     ?   \n",
       "\n",
       "   junction_location  skidding  road_surface  \n",
       "0                  8         0             1  \n",
       "1                  8         0             1  "
      ]
     },
     "execution_count": 58,
     "metadata": {},
     "output_type": "execute_result"
    }
   ],
   "source": [
    "dataset.head(2)"
   ]
  },
  {
   "cell_type": "code",
   "execution_count": 56,
   "metadata": {},
   "outputs": [
    {
     "data": {
      "text/plain": [
       "array([3, 2, 1])"
      ]
     },
     "execution_count": 56,
     "metadata": {},
     "output_type": "execute_result"
    }
   ],
   "source": [
    "dataset.Accident_Severity.unique()"
   ]
  },
  {
   "cell_type": "code",
   "execution_count": 193,
   "metadata": {},
   "outputs": [],
   "source": [
    "nee = dataset[['Accident_Severity', 'Date',\n",
    "              'Number_of_Casualties']]"
   ]
  },
  {
   "cell_type": "code",
   "execution_count": 194,
   "metadata": {},
   "outputs": [
    {
     "name": "stderr",
     "output_type": "stream",
     "text": [
      "/opt/anaconda3/lib/python3.8/site-packages/pandas/core/generic.py:5494: SettingWithCopyWarning: \n",
      "A value is trying to be set on a copy of a slice from a DataFrame.\n",
      "Try using .loc[row_indexer,col_indexer] = value instead\n",
      "\n",
      "See the caveats in the documentation: https://pandas.pydata.org/pandas-docs/stable/user_guide/indexing.html#returning-a-view-versus-a-copy\n",
      "  self[name] = value\n"
     ]
    }
   ],
   "source": [
    "nee.Date = pd.to_datetime(nee.Date)"
   ]
  },
  {
   "cell_type": "code",
   "execution_count": 189,
   "metadata": {},
   "outputs": [],
   "source": [
    "nee.set_index('Date', inplace=True)"
   ]
  },
  {
   "cell_type": "code",
   "execution_count": 79,
   "metadata": {},
   "outputs": [],
   "source": [
    "plt.rcParams['figure.figsize']=(20,10) # set the figure size\n",
    "plt.style.use('fivethirtyeight')"
   ]
  },
  {
   "cell_type": "code",
   "execution_count": 200,
   "metadata": {},
   "outputs": [
    {
     "data": {
      "text/plain": [
       "Date\n",
       "2015-01-01    590\n",
       "2015-01-02    554\n",
       "2015-01-03    659\n",
       "2015-01-04    841\n",
       "2015-01-05    980\n",
       "             ... \n",
       "2015-12-27    711\n",
       "2015-12-28    496\n",
       "2015-12-29    784\n",
       "2015-12-30    618\n",
       "2015-12-31    942\n",
       "Name: Accident_Severity, Length: 365, dtype: int64"
      ]
     },
     "execution_count": 200,
     "metadata": {},
     "output_type": "execute_result"
    }
   ],
   "source": [
    "acc = nee.groupby(['Date']).mean()['Accident_Severity']\n",
    "# nee.groupby(pd.PeriodIndex(nee['Date'], freq=\"M\"))['Accident_Severity'].value_counts().plot(kind='bar')\n"
   ]
  },
  {
   "cell_type": "code",
   "execution_count": 191,
   "metadata": {},
   "outputs": [],
   "source": [
    "fy1_all = nee[(nee.index >= '2015-01-01') & (nee.index < '2015-02-01') & (nee.Accident_Severity == 3)]\n",
    "fy2_all = acc[(acc.index >= '2015-02-01') & (acc.index < '2015-03-01')]\n",
    "fy3_all = acc[(acc.index >= '2015-03-01') & (acc.index < '2015-04-01')]\n",
    "fy4_all = acc[(acc.index >= '2015-04-01') & (acc.index < '2015-05-01')]\n",
    "fy5_all = acc[(acc.index >= '2015-05-01') & (acc.index < '2015-06-01')]\n",
    "fy6_all = acc[(acc.index >= '2015-06-01') & (acc.index < '2015-07-01')]\n",
    "fy7_all = acc[(acc.index >= '2015-07-01') & (acc.index < '2015-08-01')]\n",
    "fy8_all = acc[(acc.index >= '2015-08-01') & (acc.index < '2015-09-01')]\n",
    "fy9_all = acc[(acc.index >= '2015-09-01') & (acc.index < '2015-10-01')]\n",
    "fy10_all = acc[(acc.index >= '2015-10-01') & (acc.index < '2015-11-01')]\n",
    "fy11_all = acc[(acc.index >= '2015-11-01') & (acc.index < '2015-12-01')]\n",
    "fy12_all = acc[(acc.index >= '2015-12-01') & (acc.index < '2016-01-01')]\n",
    "\n",
    "# fy15_all = nee[(nee.index >= 'v-10-01') & (nee.index < '2015-10-01')]"
   ]
  },
  {
   "cell_type": "code",
   "execution_count": 215,
   "metadata": {},
   "outputs": [
    {
     "data": {
      "text/plain": [
       "<BarContainer object of 1 artists>"
      ]
     },
     "execution_count": 215,
     "metadata": {},
     "output_type": "execute_result"
    },
    {
     "data": {
      "image/png": "[encoded data removed]",
      "text/plain": [
       "<Figure size 1440x720 with 2 Axes>"
      ]
     },
     "metadata": {},
     "output_type": "display_data"
    }
   ],
   "source": [
    "fig, ax1 = plt.subplots()\n",
    "ax2 = ax1.twinx()  # set up the 2nd axis\n",
    "ax1.plot(nee.groupby(['Date']).mean()['Number_of_Casualties'])\n",
    "\n",
    "# ax2.bar(nee.groupby(pd.PeriodIndex(nee['Date'], freq=\"M\"))['Accident_Severity'].mean())\n",
    "\n",
    "height = nee['Accident_Severity'].value_counts().index\n",
    "value = height = nee['Accident_Severity'].value_counts().values\n",
    "\n",
    "\n",
    "\n",
    "\n",
    "ax2.bar(fy1_all.index.mean(), fy2_all.mean(),width=15, alpha=0.2, color='orange')\n",
    "ax2.bar(fy2_all.index.mean(), fy2_all.mean(),width=15, alpha=0.3, color='gray')\n",
    "ax2.bar(fy3_all.index.mean(), fy3_all.mean(),width=15, alpha=0.3, color='orange')\n",
    "ax2.bar(fy4_all.index.mean(), fy4_all.mean(),width=15, alpha=0.3, color='gray')\n",
    "ax2.bar(fy5_all.index.mean(), fy5_all.mean(),width=15, alpha=0.3, color='orange')\n",
    "ax2.bar(fy6_all.index.mean(), fy6_all.mean(),width=15, alpha=0.3, color='gray')\n",
    "ax2.bar(fy7_all.index.mean(), fy7_all.mean(),width=15, alpha=0.3, color='orange')\n",
    "ax2.bar(fy8_all.index.mean(), fy8_all.mean(),width=15, alpha=0.3, color='gray')\n",
    "ax2.bar(fy9_all.index.mean(), fy9_all.mean(),width=15, alpha=0.3, color='orange')\n",
    "ax2.bar(fy10_all.index.mean(), fy10_all.mean(),width=15, alpha=0.3, color='gray')\n",
    "ax2.bar(fy11_all.index.mean(), fy11_all.mean(),width=15, alpha=0.3, color='orange')\n",
    "ax2.bar(fy12_all.index.mean(), fy12_all.mean(),width=15, alpha=0.3, color='gray')\n",
    "\n",
    "\n",
    "# ax2.grid(b=False) # turn off grid #2\n",
    "\n",
    "# ax1.set_title('Monthly Sales Revenue vs Number of Items Sold Per Month')\n",
    "# ax1.set_ylabel('Monthly Sales Revenue')\n",
    "# ax2.set_ylabel('Number of Items Sold')\n"
   ]
  },
  {
   "cell_type": "code",
   "execution_count": 209,
   "metadata": {},
   "outputs": [
    {
     "data": {
      "text/plain": [
       "Int64Index([3, 2, 1], dtype='int64')"
      ]
     },
     "execution_count": 209,
     "metadata": {},
     "output_type": "execute_result"
    }
   ],
   "source": [
    "nee.groupby(['Date']).mean()\n",
    "#Accident_Severity\n",
    "dataset.groupby(['junction_location', 'Accident_Severity']).mean()['Number_of_Casualties']\n",
    "height = nee['Accident_Severity'].value_counts().index\n",
    "\n",
    "height"
   ]
  },
  {
   "cell_type": "code",
   "execution_count": 94,
   "metadata": {},
   "outputs": [],
   "source": [
    "dataset['date'] = pd.to_datetime(dataset.Date)"
   ]
  },
  {
   "cell_type": "code",
   "execution_count": 108,
   "metadata": {},
   "outputs": [
    {
     "data": {
      "text/plain": [
       "<AxesSubplot:xlabel='junction_location'>"
      ]
     },
     "execution_count": 108,
     "metadata": {},
     "output_type": "execute_result"
    },
    {
     "data": {
      "image/png": "[encoded data removed]",
      "text/plain": [
       "<Figure size 1440x720 with 1 Axes>"
      ]
     },
     "metadata": {},
     "output_type": "display_data"
    }
   ],
   "source": [
    "one = dataset.groupby(['Accident_Severity']).mean()['Number_of_Casualties'].plot(kind='bar', width = 0.1)\n",
    "two = dataset.groupby(['junction_location']).mean()['Number_of_Casualties'].plot(kind='bar', width = 0.1)\n",
    "\n"
   ]
  },
  {
   "cell_type": "code",
   "execution_count": 179,
   "metadata": {},
   "outputs": [],
   "source": [
    "yee = dataset[:5000]['Accident_Severity'].value_counts()"
   ]
  },
  {
   "cell_type": "code",
   "execution_count": 181,
   "metadata": {},
   "outputs": [
    {
     "data": {
      "text/plain": [
       "<AxesSubplot:>"
      ]
     },
     "execution_count": 181,
     "metadata": {},
     "output_type": "execute_result"
    },
    {
     "data": {
      "image/png": "[encoded data removed]",
      "text/plain": [
       "<Figure size 1440x720 with 1 Axes>"
      ]
     },
     "metadata": {},
     "output_type": "display_data"
    }
   ],
   "source": [
    "yee.plot.bar(stacked=True)\n"
   ]
  },
  {
   "cell_type": "code",
   "execution_count": null,
   "metadata": {},
   "outputs": [],
   "source": []
  }
 ],
 "metadata": {
  "kernelspec": {
   "display_name": "Python 3",
   "language": "python",
   "name": "python3"
  },
  "language_info": {
   "codemirror_mode": {
    "name": "ipython",
    "version": 3
   },
   "file_extension": ".py",
   "mimetype": "text/x-python",
   "name": "python",
   "nbconvert_exporter": "python",
   "pygments_lexer": "ipython3",
   "version": "3.8.5"
  }
 },
 "nbformat": 4,
 "nbformat_minor": 4
}
