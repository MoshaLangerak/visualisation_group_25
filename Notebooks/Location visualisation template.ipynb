{
 "cells": [
  {
   "cell_type": "markdown",
   "metadata": {},
   "source": [
    "## Location visualisation template"
   ]
  },
  {
   "cell_type": "code",
   "execution_count": null,
   "metadata": {},
   "outputs": [],
   "source": [
    "# Import libraries\n",
    "import pandas as pd\n",
    "import json\n",
    "\n",
    "#in order of complexity we import the different plotly libraries\n",
    "import plotly.express as px\n",
    "import plotly.graph_objects as go\n",
    "import datashader as ds\n",
    "\n",
    "import dask.dataframe as dd #alternative to pandas, is faster with large datasets"
   ]
  },
  {
   "cell_type": "code",
   "execution_count": null,
   "metadata": {
    "scrolled": true
   },
   "outputs": [],
   "source": [
    "# Load some data with longitude and langitude\n",
    "file_path = './data/df_2020.csv'\n",
    "df_pd = pd.read_csv(file_path, low_memory=False)\n",
    "df_dd = dd.read_csv(file_path)"
   ]
  },
  {
   "cell_type": "code",
   "execution_count": null,
   "metadata": {
    "scrolled": true
   },
   "outputs": [],
   "source": [
    "# with plotly.express it is very easy to create a scatterplot with a map, here an example with data from the library\n",
    "df_iso = px.data.gapminder().query(\"year == 2007\")\n",
    "fig = px.scatter_geo(df_iso, locations=\"iso_alpha\", # in this case the locations are based on iso codes, e.g. the Netherlands is NLD\n",
    "                     size=\"pop\", # size of markers, \"pop\" is one of the columns of gapminder\n",
    "                     )\n",
    "fig.show()"
   ]
  },
  {
   "cell_type": "code",
   "execution_count": null,
   "metadata": {
    "scrolled": true
   },
   "outputs": [],
   "source": [
    "# fig_map_box = px.scatter_mapbox(df_pd, #which data to use, just a pandas dataframe\n",
    "#                         lat='latitude', #which column to use for latitude\n",
    "#                         lon='longitude', #which column to use for longitude\n",
    "#                         hover_data =['accident_index'], #what data to show when hovering over a data point\n",
    "#                         color='accident_severity', # what colour to give the data, can work with both numerical and categorical variables\n",
    "#                         size_max=100,\n",
    "#                         mapbox_style='carto-darkmatter')\n",
    "\n",
    "# fig_map_box.update_layout(margin={'r':0, 't':0, 'l':0, 'b':0},\n",
    "#                           mapbox_zoom=4, # use this to zoom in on the map\n",
    "#                           mapbox_center_lat = 54.5, # use this to align the map on latitude\n",
    "#                           mapbox_center_lon = -2 # use this to align the map on longitude\n",
    "#                          )\n",
    "# fig_map_box.show()"
   ]
  },
  {
   "cell_type": "code",
   "execution_count": null,
   "metadata": {
    "scrolled": false
   },
   "outputs": [],
   "source": [
    "\n",
    "fig_den_box = px.density_mapbox(df_pd, #which data to use, just a pandas dataframe\n",
    "                        lat='latitude', #which column to use for latitude\n",
    "                        lon='longitude', #which column to use for longitude\n",
    "                        hover_data =['accident_index'], #what data to show when hovering over a data point\n",
    "                        z='accident_severity', # what colour to give the data, can work with both numerical and categorical variables\n",
    "                        mapbox_style='carto-darkmatter',\n",
    "                        opacity = 0.5, # change the opacity of the oclours on the map\n",
    "                        range_color = [0, 10]\n",
    "                        ) # change the range of the z metric's colour scale)\n",
    "\n",
    "fig_den_box.update_layout(margin={'r':0, 't':0, 'l':0, 'b':0},\n",
    "                        mapbox_zoom=4, # use this to zoom in on the map\n",
    "                        mapbox_center_lat = 54.5, # use this to align the map on latitude\n",
    "                        mapbox_center_lon = -2 # use this to align the map on longitude\n",
    "                         )\n",
    "fig_den_box.show()"
   ]
  },
  {
   "cell_type": "code",
   "execution_count": null,
   "metadata": {},
   "outputs": [],
   "source": [
    "df_districts = df_pd.groupby('local_authority_ons_district').sum().reset_index()\n",
    "df_districts.drop(df_districts.columns.difference(['local_authority_ons_district', 'accident_severity', 'number_of_vehicles',\n",
    "       'number_of_casualties']), 1, inplace=True)\n",
    "df_districts.rename(columns = {'accident_severity':'Accident Severity', 'number_of_vehicles':'Number of vehicles', 'number_of_casualties':'Number of casualties'}, inplace = True)\n"
   ]
  },
  {
   "cell_type": "code",
   "execution_count": null,
   "metadata": {},
   "outputs": [],
   "source": [
    "df_districts.head()"
   ]
  },
  {
   "cell_type": "code",
   "execution_count": null,
   "metadata": {},
   "outputs": [],
   "source": [
    "# getting the geojson data (boandary data) for the UK\n",
    "with open('Data/uk_local_areas/uk_la.geojson') as f:\n",
    "    geojson = json.load(f)"
   ]
  },
  {
   "cell_type": "code",
   "execution_count": null,
   "metadata": {
    "scrolled": false
   },
   "outputs": [],
   "source": [
    "# plot a choropleth plot with the json data\n",
    "fig = px.choropleth(df_districts, geojson=geojson, color=\"Number of casualties\",\n",
    "                    locations=\"local_authority_ons_district\", featureidkey=\"properties.geo_code\",\n",
    "                    projection=\"mercator\"\n",
    "                   )\n",
    "\n",
    "fig.update_geos(fitbounds=\"locations\", visible=False)\n",
    "fig.update_layout(margin={\"r\":0,\"t\":0,\"l\":0,\"b\":0})"
   ]
  },
  {
   "cell_type": "code",
   "execution_count": null,
   "metadata": {
    "scrolled": false
   },
   "outputs": [],
   "source": [
    "# plot a choropleth plot with the json data\n",
    "fig = go.Figure()\n",
    "trace = []\n",
    "\n",
    "lst = ['Accident Severity', 'Number of vehicles', 'Number of casualties']\n",
    "\n",
    "for i in range(0, len(lst)):\n",
    "    trace.append(px.choropleth(\n",
    "        df_districts, geojson=geojson, color=lst[i],\n",
    "        locations=\"local_authority_ons_district\", featureidkey=\"properties.geo_code\",\n",
    "        projection=\"mercator\",\n",
    "        basemap_visible=False,\n",
    "        title='Map of {} in the UK'.format(lst[i]),\n",
    "    ),\n",
    "     \n",
    ")\n",
    "# fig.add_trace(trace)\n",
    "\n",
    "for trace_fig in trace:\n",
    "    fig.add_trace(trace_fig)\n",
    "    \n",
    "trace[1].update_geos(fitbounds=\"locations\", visible=False)\n",
    "trace[1].update_layout(margin={\"r\":0,\"t\":0,\"l\":0,\"b\":0})\n",
    "trace[1].show()"
   ]
  },
  {
   "cell_type": "code",
   "execution_count": null,
   "metadata": {},
   "outputs": [],
   "source": [
    "fig.update_layout(\n",
    "    updatemenus=[\n",
    "        dict(\n",
    "            active=0,\n",
    "            buttons=list([\n",
    "            dict(\n",
    "                label=\"Number of accidents\",\n",
    "                args=[\"number_of_casualties\", \"choropleth\"],\n",
    "                method=\"update\"\n",
    "            ),\n",
    "            dict(\n",
    "                label=\"Number of casualties\",\n",
    "                args=[\"number_of_casualties\", \"choropleth\"],\n",
    "                method=\"update\"\n",
    "            ),\n",
    "            dict(\n",
    "                label=\"Accident severity\",\n",
    "                args=[\"number_of_accidents\", \"choropleth\"],\n",
    "                method=\"update\"\n",
    "            ),\n",
    "            dict(\n",
    "                label=\"Number of accidents per capita\",\n",
    "                args=[\"number_of_casualties\", \"choropleth\"],\n",
    "                method=\"update\"\n",
    "            ),\n",
    "            dict(\n",
    "                label=\"Number of casualties per capita\",\n",
    "                args=[\"number_of_casualties\", \"choropleth\"],\n",
    "                method=\"update\"\n",
    "            )\n",
    "        ]),\n",
    "            direction=\"down\",\n",
    "        ),\n",
    "    ]\n",
    ")\n",
    "\n",
    "# trace[0]['basemap_visible'] = True"
   ]
  },
  {
   "cell_type": "code",
   "execution_count": null,
   "metadata": {},
   "outputs": [],
   "source": [
    "# make a fig object with a plot attached with the pandas df (WARNING: very slow)\n",
    "fig = go.Figure(data=go.Scattergeo(\n",
    "        lon = df['longitude'],\n",
    "        lat = df['latitude'],\n",
    "        text = df['accident_index'],\n",
    "        mode = 'markers',\n",
    "        marker_color = df['accident_severity'],\n",
    "        ))\n",
    "\n",
    "fig.update_layout(\n",
    "        title = 'Accidents<br>Great Britain 2020',\n",
    "        geo_scope='europe',\n",
    "    )\n",
    "\n",
    "fig.show()"
   ]
  },
  {
   "cell_type": "code",
   "execution_count": null,
   "metadata": {},
   "outputs": [],
   "source": [
    "#creating a datashader canvas\n",
    "cvs = ds.Canvas(plot_width=1000, plot_height=1000)\n",
    "agg = cvs.points(df, x='longitude', y='latitude')\n",
    "# agg is an xarray object, see http://xarray.pydata.org/en/stable/\n",
    "coords_lat, coords_lon = agg.coords['latitude'].values, agg.coords['longitude'].values\n",
    "# Corners of the image, which need to be passed to mapbox\n",
    "coordinates = [[coords_lon[0], coords_lat[0]],\n",
    "               [coords_lon[-1], coords_lat[0]],\n",
    "               [coords_lon[-1], coords_lat[-1]],\n",
    "               [coords_lon[0], coords_lat[-1]]]"
   ]
  }
 ],
 "metadata": {
  "kernelspec": {
   "display_name": "Python 3",
   "language": "python",
   "name": "python3"
  },
  "language_info": {
   "codemirror_mode": {
    "name": "ipython",
    "version": 3
   },
   "file_extension": ".py",
   "mimetype": "text/x-python",
   "name": "python",
   "nbconvert_exporter": "python",
   "pygments_lexer": "ipython3",
   "version": "3.8.5"
  }
 },
 "nbformat": 4,
 "nbformat_minor": 4
}
